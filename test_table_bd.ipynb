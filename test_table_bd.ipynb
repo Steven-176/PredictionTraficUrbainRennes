{
 "cells": [
  {
   "cell_type": "code",
   "execution_count": null,
   "id": "864959dc",
   "metadata": {},
   "outputs": [],
   "source": [
    "import sqlite3\n",
    "import pandas as pd\n",
    "import os\n",
    "\n",
    "# Chemin vers la base de données\n",
    "BASE_DIR = os.path.dirname(os.path.abspath(__file__))\n",
    "db_path = os.path.join(BASE_DIR, \"collecte_donnees\", \"urban_mobility.db\")\n",
    "\n",
    "# Connexion à la base de données\n",
    "conn = sqlite3.connect(db_path)\n",
    "\n",
    "# Récupérer les noms des tables\n",
    "query = \"SELECT name FROM sqlite_master WHERE type='table';\"\n",
    "tables = pd.read_sql_query(query, conn)\n",
    "print(\"Tables disponibles dans la base de données :\")\n",
    "print(tables)\n",
    "\n",
    "# Afficher les premières lignes de la première table\n",
    "if not tables.empty:\n",
    "    first_table = tables.iloc[0, 0]\n",
    "    print(f\"\\nContenu de la table '{first_table}' :\")\n",
    "    query = f\"SELECT * FROM {first_table} LIMIT 5;\"\n",
    "    df_head = pd.read_sql_query(query, conn)\n",
    "    print(df_head)\n",
    "\n",
    "# Fermer la connexion\n",
    "conn.close()"
   ]
  }
 ],
 "metadata": {
  "language_info": {
   "name": "python"
  }
 },
 "nbformat": 4,
 "nbformat_minor": 5
}
