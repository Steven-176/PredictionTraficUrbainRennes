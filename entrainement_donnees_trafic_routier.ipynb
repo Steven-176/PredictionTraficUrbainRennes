{
 "cells": [
  {
   "cell_type": "code",
   "execution_count": null,
   "id": "531f89f4",
   "metadata": {},
   "outputs": [
    {
     "name": "stdout",
     "output_type": "stream",
     "text": [
      "📊 Rapport de classification :\n",
      "               precision    recall  f1-score   support\n",
      "\n",
      "      bouché       1.00      0.97      0.98        32\n",
      "       dense       0.98      0.99      0.98       429\n",
      "      fluide       1.00      1.00      1.00      5200\n",
      "\n",
      "    accuracy                           1.00      5661\n",
      "   macro avg       0.99      0.98      0.99      5661\n",
      "weighted avg       1.00      1.00      1.00      5661\n",
      "\n",
      "\n",
      "✅ Nouveau modèle avec l’heure incluse sauvegardé dans 'model/'\n"
     ]
    }
   ],
   "source": [
    "import pandas as pd\n",
    "import numpy as np\n",
    "from sklearn.ensemble import RandomForestClassifier\n",
    "from sklearn.preprocessing import LabelEncoder\n",
    "from sklearn.model_selection import train_test_split\n",
    "from sklearn.metrics import classification_report\n",
    "import joblib\n",
    "import os\n",
    "\n",
    "def find_project_root(folder_name=\"ProjetMobilite\"):\n",
    "    current = os.getcwd()\n",
    "    while folder_name not in os.path.basename(current):\n",
    "        parent = os.path.dirname(current)\n",
    "        if parent == current:\n",
    "            raise Exception(f\"❌ Impossible de trouver la racine du projet '{folder_name}'\")\n",
    "        current = parent\n",
    "    return current\n",
    "\n",
    "project_root = find_project_root(\"ProjetMobilite\")\n",
    "\n",
    "file_path = os.path.join(project_root, \"donnes_propre_pour_entrainement\", \"tomtom_dataset.csv\")\n",
    "\n",
    "if not os.path.exists(file_path):\n",
    "    raise FileNotFoundError(f\"❌ Fichier introuvable : {file_path}\")\n",
    "\n",
    "df = pd.read_csv(file_path)\n",
    "\n",
    "df[['lat', 'lon']] = df['location'].str.replace(\"(\", \"\").str.replace(\")\", \"\").str.split(\",\", expand=True).astype(float)\n",
    "df['hour'] = pd.to_datetime(df['hour'])\n",
    "df['hour_num'] = df['hour'].dt.hour\n",
    "\n",
    "le = LabelEncoder()\n",
    "df['congestion_encoded'] = le.fit_transform(df['congestion_level'])\n",
    "features = ['current_speed', 'free_flow_speed', 'lat', 'lon', 'hour_num']\n",
    "X = df[features]\n",
    "y = df['congestion_encoded']\n",
    "\n",
    "X_train, X_test, y_train, y_test = train_test_split(X, y, test_size=0.2, random_state=42)\n",
    "\n",
    "model = RandomForestClassifier(n_estimators=100, random_state=42)\n",
    "model.fit(X_train, y_train)\n",
    "\n",
    "y_pred = model.predict(X_test)\n",
    "print(\" Rapport de classification :\\n\", classification_report(y_test, y_pred, target_names=le.classes_))\n",
    "\n",
    "model_dir = os.path.join(project_root, \"model\")\n",
    "os.makedirs(model_dir, exist_ok=True)\n",
    "joblib.dump(model, os.path.join(model_dir, \"congestion_predictor.pkl\"))\n",
    "joblib.dump(le, os.path.join(model_dir, \"label_encoder.pkl\"))\n",
    "\n",
    "print(\"\\nNouveau modèle avec l’heure incluse sauvegardé dans 'model/'\")\n"
   ]
  }
 ],
 "metadata": {
  "kernelspec": {
   "display_name": "Python 3",
   "language": "python",
   "name": "python3"
  },
  "language_info": {
   "codemirror_mode": {
    "name": "ipython",
    "version": 3
   },
   "file_extension": ".py",
   "mimetype": "text/x-python",
   "name": "python",
   "nbconvert_exporter": "python",
   "pygments_lexer": "ipython3",
   "version": "3.13.3"
  }
 },
 "nbformat": 4,
 "nbformat_minor": 5
}
