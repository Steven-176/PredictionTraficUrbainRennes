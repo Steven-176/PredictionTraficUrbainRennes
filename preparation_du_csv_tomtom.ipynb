{
 "cells": [
  {
   "cell_type": "code",
   "execution_count": null,
   "id": "9b1189f3",
   "metadata": {},
   "outputs": [
    {
     "name": "stdout",
     "output_type": "stream",
     "text": [
      "🚦 Récupération des données TomTom...\n",
      "✅ Export TomTom terminé : 30943 lignes vers tomtom_dataset.csv\n"
     ]
    },
    {
     "name": "stderr",
     "output_type": "stream",
     "text": [
      "C:\\Users\\soso8\\AppData\\Local\\Temp\\ipykernel_11824\\545398581.py:17: FutureWarning: 'H' is deprecated and will be removed in a future version, please use 'h' instead.\n",
      "  df_tomtom[\"hour\"] = df_tomtom[\"timestamp\"].dt.floor(\"H\")\n"
     ]
    }
   ],
   "source": [
    "import sqlite3\n",
    "import pandas as pd\n",
    "import os\n",
    "\n",
    "db_path = os.path.join(os.path.dirname(__file__) if '__file__' in globals() else os.getcwd(), '..', 'collecte_donnees', 'urban_mobility.db')\n",
    "db_path = os.path.abspath(db_path)\n",
    "\n",
    "# Connexion à la base\n",
    "conn = sqlite3.connect(db_path)\n",
    "# Extraction\n",
    "print(\"🚦 Récupération des données TomTom...\")\n",
    "df_tomtom = pd.read_sql(\"SELECT * FROM tomtom_traffic\", conn)\n",
    "\n",
    "# Conversion des dates\n",
    "df_tomtom[\"timestamp\"] = pd.to_datetime(df_tomtom[\"timestamp\"])\n",
    "df_tomtom[\"hour\"] = df_tomtom[\"timestamp\"].dt.floor(\"H\")\n",
    "\n",
    "# Export\n",
    "df_tomtom.to_csv(\"tomtom_dataset.csv\", index=False)\n",
    "print(f\"✅ Export TomTom terminé : {len(df_tomtom)} lignes vers tomtom_dataset.csv\")\n",
    "\n",
    "conn.close()"
   ]
  }
 ],
 "metadata": {
  "kernelspec": {
   "display_name": "Python 3",
   "language": "python",
   "name": "python3"
  },
  "language_info": {
   "codemirror_mode": {
    "name": "ipython",
    "version": 3
   },
   "file_extension": ".py",
   "mimetype": "text/x-python",
   "name": "python",
   "nbconvert_exporter": "python",
   "pygments_lexer": "ipython3",
   "version": "3.13.3"
  }
 },
 "nbformat": 4,
 "nbformat_minor": 5
}
