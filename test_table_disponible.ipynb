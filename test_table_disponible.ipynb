{
 "cells": [
  {
   "cell_type": "code",
   "execution_count": null,
   "id": "c4fc7ad3",
   "metadata": {},
   "outputs": [],
   "source": [
    "import sqlite3\n",
    "import pandas as pd\n",
    "import os\n",
    "\n",
    "# Chemin vers la base de données\n",
    "BASE_DIR = os.path.dirname(os.path.abspath(__file__))\n",
    "db_path = os.path.join(BASE_DIR, \"collecte_donnees\", \"urban_mobility.db\")\n",
    "\n",
    "# Connexion à la base de données\n",
    "conn = sqlite3.connect(db_path)\n",
    "\n",
    "# Parcourir les tables et afficher un échantillon\n",
    "for table_name in tables['name']:\n",
    "    print(f\"📋 Échantillon de la table '{table_name}':\")\n",
    "    query = f\"SELECT * FROM {table_name} LIMIT 5;\"\n",
    "    sample = pd.read_sql_query(query, conn)\n",
    "    print(sample)\n",
    "    print(\"\\n\")\n",
    "\n",
    "# Fermer la connexion\n",
    "conn.close()"
   ]
  }
 ],
 "metadata": {
  "language_info": {
   "name": "python"
  }
 },
 "nbformat": 4,
 "nbformat_minor": 5
}
